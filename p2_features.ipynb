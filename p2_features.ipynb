{
 "cells": [
  {
   "cell_type": "markdown",
   "metadata": {},
   "source": [
    "# Features"
   ]
  },
  {
   "cell_type": "code",
   "execution_count": 2,
   "metadata": {},
   "outputs": [],
   "source": [
    "from bs4 import BeautifulSoup as bs\n",
    "import requests\n",
    "import re\n",
    "import csv\n",
    "import re\n",
    "import imdb\n",
    "ia = imdb.IMDb()\n",
    "import pandas as pd\n",
    "import numpy as np\n",
    "import statsmodels.api as sm\n",
    "import statsmodels.formula.api as smf\n",
    "import patsy\n",
    "\n",
    "import seaborn as sns\n",
    "import matplotlib.pyplot as plt\n",
    "from sklearn.linear_model import LinearRegression\n",
    "from sklearn.linear_model import RidgeCV\n",
    "%matplotlib inline\n",
    "from sklearn.model_selection import train_test_split\n",
    "import json\n",
    "import nltk"
   ]
  },
  {
   "cell_type": "code",
   "execution_count": 63,
   "metadata": {},
   "outputs": [],
   "source": []
  },
  {
   "cell_type": "code",
   "execution_count": 3,
   "metadata": {},
   "outputs": [],
   "source": [
    "movies_df = pd.read_csv('movies.csv')"
   ]
  },
  {
   "cell_type": "code",
   "execution_count": 52,
   "metadata": {},
   "outputs": [
    {
     "data": {
      "text/html": [
       "<div>\n",
       "<style scoped>\n",
       "    .dataframe tbody tr th:only-of-type {\n",
       "        vertical-align: middle;\n",
       "    }\n",
       "\n",
       "    .dataframe tbody tr th {\n",
       "        vertical-align: top;\n",
       "    }\n",
       "\n",
       "    .dataframe thead th {\n",
       "        text-align: right;\n",
       "    }\n",
       "</style>\n",
       "<table border=\"1\" class=\"dataframe\">\n",
       "  <thead>\n",
       "    <tr style=\"text-align: right;\">\n",
       "      <th></th>\n",
       "      <th>domestic_total_gross</th>\n",
       "      <th>movie_title</th>\n",
       "      <th>month</th>\n",
       "      <th>opening</th>\n",
       "      <th>genres</th>\n",
       "      <th>release_date</th>\n",
       "      <th>runtime_minutes</th>\n",
       "      <th>days_in_release</th>\n",
       "      <th>theaters</th>\n",
       "      <th>budget</th>\n",
       "      <th>black_list</th>\n",
       "      <th>big_six_producer</th>\n",
       "      <th>rating_G</th>\n",
       "      <th>rating_NC-17</th>\n",
       "      <th>rating_Not Rated</th>\n",
       "      <th>rating_PG</th>\n",
       "      <th>rating_PG-13</th>\n",
       "      <th>rating_R</th>\n",
       "    </tr>\n",
       "  </thead>\n",
       "  <tbody>\n",
       "    <tr>\n",
       "      <th>0</th>\n",
       "      <td>858373000</td>\n",
       "      <td>Avengers: Endgame</td>\n",
       "      <td>Apr</td>\n",
       "      <td>Walt Disney Studios</td>\n",
       "      <td>['Action', 'Adventure', 'Drama', 'Sci-Fi']</td>\n",
       "      <td>Apr 26, 2019</td>\n",
       "      <td>181.0</td>\n",
       "      <td>444</td>\n",
       "      <td>4662.0</td>\n",
       "      <td>356000000.0</td>\n",
       "      <td>0</td>\n",
       "      <td>1</td>\n",
       "      <td>0</td>\n",
       "      <td>0</td>\n",
       "      <td>0</td>\n",
       "      <td>0</td>\n",
       "      <td>1</td>\n",
       "      <td>0</td>\n",
       "    </tr>\n",
       "  </tbody>\n",
       "</table>\n",
       "</div>"
      ],
      "text/plain": [
       "   domestic_total_gross        movie_title month              opening  \\\n",
       "0             858373000  Avengers: Endgame   Apr  Walt Disney Studios   \n",
       "\n",
       "                                       genres  release_date  runtime_minutes  \\\n",
       "0  ['Action', 'Adventure', 'Drama', 'Sci-Fi']  Apr 26, 2019            181.0   \n",
       "\n",
       "   days_in_release  theaters       budget  black_list  big_six_producer  \\\n",
       "0              444    4662.0  356000000.0           0                 1   \n",
       "\n",
       "   rating_G  rating_NC-17  rating_Not Rated  rating_PG  rating_PG-13  rating_R  \n",
       "0         0             0                 0          0             1         0  "
      ]
     },
     "execution_count": 52,
     "metadata": {},
     "output_type": "execute_result"
    }
   ],
   "source": [
    "movies_df.head(1)"
   ]
  },
  {
   "cell_type": "markdown",
   "metadata": {},
   "source": [
    "## Column Clean Up"
   ]
  },
  {
   "cell_type": "code",
   "execution_count": 48,
   "metadata": {},
   "outputs": [],
   "source": [
    "movies_df.drop('Unnamed: 0',axis=1,inplace=True)"
   ]
  },
  {
   "cell_type": "code",
   "execution_count": 51,
   "metadata": {},
   "outputs": [],
   "source": [
    "column_names = ['domestic_total_gross','movie_title','month',\n",
    "                'opening','genres','release_date','runtime_minutes','days_in_release','theaters','budget',\n",
    "               'black_list','big_six_producer','rating_G', 'rating_NC-17',\n",
    "                'rating_Not Rated', 'rating_PG','rating_PG-13', 'rating_R']\n",
    "\n",
    "movies_df = movies_df.reindex(columns=column_names)"
   ]
  },
  {
   "cell_type": "markdown",
   "metadata": {},
   "source": [
    "## Black List Import"
   ]
  },
  {
   "cell_type": "code",
   "execution_count": 42,
   "metadata": {},
   "outputs": [],
   "source": [
    "black_list = pd.read_csv('BlackListAll-updated.csv')\n",
    "title_list = black_list['Title'].tolist()"
   ]
  },
  {
   "cell_type": "code",
   "execution_count": 43,
   "metadata": {},
   "outputs": [],
   "source": [
    "def list_updated(x):\n",
    "    item_list = [x.lower() for x in title_list]\n",
    "    \n",
    "    if x.lower() in item_list:\n",
    "        return 1\n",
    "    else:\n",
    "        return 0"
   ]
  },
  {
   "cell_type": "code",
   "execution_count": 44,
   "metadata": {},
   "outputs": [
    {
     "data": {
      "text/plain": [
       "-0.017805549978461215"
      ]
     },
     "execution_count": 44,
     "metadata": {},
     "output_type": "execute_result"
    }
   ],
   "source": [
    "movies_df['black_list'] = movies_df['movie_title']\n",
    "movies_df['black_list'] = movies_df.black_list.apply(list_updated)\n",
    "movies_df.domestic_total_gross.corr(movies_df.black_list)"
   ]
  },
  {
   "cell_type": "code",
   "execution_count": null,
   "metadata": {},
   "outputs": [],
   "source": [
    "# Not promising at all "
   ]
  },
  {
   "cell_type": "markdown",
   "metadata": {},
   "source": [
    "## Big Six Producers"
   ]
  },
  {
   "cell_type": "code",
   "execution_count": 38,
   "metadata": {},
   "outputs": [
    {
     "data": {
      "text/plain": [
       "0.446979450915694"
      ]
     },
     "execution_count": 38,
     "metadata": {},
     "output_type": "execute_result"
    }
   ],
   "source": [
    "def big_six(producer):\n",
    "    big_six = ['Walt Disney Studios', 'Columbia Pictures', 'Paramount Pictures',\n",
    "               'Warner Bros.', 'Universal Pictures','Twentieth Century Fox']\n",
    "    \n",
    "    if producer in big_six:\n",
    "        return 1\n",
    "    else:\n",
    "        return 0\n",
    "\n",
    "\n",
    "movies_df['big_six_producer'] = movies_df.opening.apply(big_six)\n",
    "movies_df.domestic_total_gross.corr(movies_df.big_six_producer)"
   ]
  },
  {
   "cell_type": "markdown",
   "metadata": {},
   "source": [
    "## Movie Rating Dummies"
   ]
  },
  {
   "cell_type": "code",
   "execution_count": null,
   "metadata": {},
   "outputs": [],
   "source": [
    "movies_df = pd.get_dummies(movies_df,columns=['rating'])"
   ]
  },
  {
   "cell_type": "markdown",
   "metadata": {},
   "source": [
    "## Genre Dummies"
   ]
  },
  {
   "cell_type": "markdown",
   "metadata": {},
   "source": [
    "A bit of digging revealed that my genres were large strings disguised as lists! Needed to fix that first."
   ]
  },
  {
   "cell_type": "code",
   "execution_count": 198,
   "metadata": {
    "scrolled": true
   },
   "outputs": [],
   "source": [
    "def genre_stripper(genre):\n",
    "    genre = genre.replace(\"]\",\"\").replace(\"[\",\"\").replace(\" \",\"\").replace(\"'\",\"\").split(',')\n",
    "    return genre\n"
   ]
  },
  {
   "cell_type": "code",
   "execution_count": 200,
   "metadata": {},
   "outputs": [],
   "source": [
    "movies_df['genres'] = movies_df.genres.apply(genre_stripper)"
   ]
  },
  {
   "cell_type": "code",
   "execution_count": 230,
   "metadata": {},
   "outputs": [
    {
     "data": {
      "text/plain": [
       "['Sci-Fi',\n",
       " 'Biography',\n",
       " 'Fantasy',\n",
       " 'News',\n",
       " 'Mystery',\n",
       " 'Adventure',\n",
       " 'Crime',\n",
       " 'Musical',\n",
       " 'Action',\n",
       " 'Documentary',\n",
       " 'Thriller',\n",
       " 'Music',\n",
       " 'Sport',\n",
       " 'Romance',\n",
       " 'Horror',\n",
       " 'History',\n",
       " 'Western',\n",
       " 'War',\n",
       " 'Comedy',\n",
       " 'Short',\n",
       " 'Animation',\n",
       " 'Family',\n",
       " 'Drama']"
      ]
     },
     "execution_count": 230,
     "metadata": {},
     "output_type": "execute_result"
    }
   ],
   "source": [
    "genres = []\n",
    "new_genres = []\n",
    "\n",
    "for i in movies_df['genres']: \n",
    "    genres.append(i)\n",
    "\n",
    "for i in genres:\n",
    "    for n in i:\n",
    "        new_genres.append(n)\n",
    "        \n",
    "new_genres = set(new_genres)\n",
    "new_genres = list(new_genres)\n",
    "new_genres.remove('0')\n",
    "new_genres"
   ]
  },
  {
   "cell_type": "code",
   "execution_count": 231,
   "metadata": {},
   "outputs": [],
   "source": []
  },
  {
   "cell_type": "code",
   "execution_count": 238,
   "metadata": {},
   "outputs": [
    {
     "name": "stdout",
     "output_type": "stream",
     "text": [
      "True\n"
     ]
    }
   ],
   "source": [
    "\n",
    "movies_with_genres = movies_df.copy(deep=True)\n",
    "\n",
    "x = []\n",
    "for index, row in movies_df.iterrows():\n",
    "    x.append(index)\n",
    "    for genre in row['genres']:\n",
    "        movies_with_genres.at[index, genre] = 1\n",
    "print(len(x) == len(movies_df))\n",
    "\n",
    "movies_df = movies_with_genres.fillna(0)\n"
   ]
  },
  {
   "cell_type": "markdown",
   "metadata": {},
   "source": [
    "## Release Months"
   ]
  },
  {
   "cell_type": "code",
   "execution_count": 55,
   "metadata": {},
   "outputs": [],
   "source": [
    "movies_df = pd.get_dummies(movies_df,columns=['month'],drop_first=True)"
   ]
  },
  {
   "cell_type": "code",
   "execution_count": null,
   "metadata": {},
   "outputs": [],
   "source": [
    "# We are now approaching an unruly dataframe, BEWARE"
   ]
  },
  {
   "cell_type": "markdown",
   "metadata": {},
   "source": [
    "## Getting Year Right"
   ]
  },
  {
   "cell_type": "code",
   "execution_count": 284,
   "metadata": {},
   "outputs": [],
   "source": [
    "def year_convertor(year):\n",
    "    step1 = year[7:12]\n",
    "    step2 = step1.strip(\" \")\n",
    "    return int(step2)"
   ]
  },
  {
   "cell_type": "code",
   "execution_count": 285,
   "metadata": {},
   "outputs": [],
   "source": [
    "movies_df['year'] = movies_df.release_date.apply(year_convertor)"
   ]
  },
  {
   "cell_type": "markdown",
   "metadata": {},
   "source": [
    "## Clean Up"
   ]
  },
  {
   "cell_type": "code",
   "execution_count": 290,
   "metadata": {},
   "outputs": [],
   "source": [
    "movies_df.drop('0',axis=1,inplace=True)"
   ]
  },
  {
   "cell_type": "code",
   "execution_count": 297,
   "metadata": {
    "scrolled": true
   },
   "outputs": [],
   "source": [
    "movies_df = movies_df.rename(columns={'opening': 'producer'})\n",
    "movies_df.drop('genres', axis=1,inplace=True)"
   ]
  },
  {
   "cell_type": "code",
   "execution_count": 304,
   "metadata": {
    "scrolled": true
   },
   "outputs": [
    {
     "data": {
      "text/html": [
       "<div>\n",
       "<style scoped>\n",
       "    .dataframe tbody tr th:only-of-type {\n",
       "        vertical-align: middle;\n",
       "    }\n",
       "\n",
       "    .dataframe tbody tr th {\n",
       "        vertical-align: top;\n",
       "    }\n",
       "\n",
       "    .dataframe thead th {\n",
       "        text-align: right;\n",
       "    }\n",
       "</style>\n",
       "<table border=\"1\" class=\"dataframe\">\n",
       "  <thead>\n",
       "    <tr style=\"text-align: right;\">\n",
       "      <th></th>\n",
       "      <th>domestic_total_gross</th>\n",
       "      <th>movie_title</th>\n",
       "      <th>producer</th>\n",
       "      <th>release_date</th>\n",
       "      <th>year</th>\n",
       "      <th>runtime_minutes</th>\n",
       "      <th>days_in_release</th>\n",
       "      <th>theaters</th>\n",
       "      <th>budget</th>\n",
       "      <th>black_list</th>\n",
       "      <th>...</th>\n",
       "      <th>Mystery</th>\n",
       "      <th>Biography</th>\n",
       "      <th>Sport</th>\n",
       "      <th>Music</th>\n",
       "      <th>History</th>\n",
       "      <th>War</th>\n",
       "      <th>Documentary</th>\n",
       "      <th>Western</th>\n",
       "      <th>Short</th>\n",
       "      <th>News</th>\n",
       "    </tr>\n",
       "  </thead>\n",
       "  <tbody>\n",
       "    <tr>\n",
       "      <th>0</th>\n",
       "      <td>858373000</td>\n",
       "      <td>Avengers: Endgame</td>\n",
       "      <td>Walt Disney Studios</td>\n",
       "      <td>Apr 26, 2019</td>\n",
       "      <td>2019</td>\n",
       "      <td>181.0</td>\n",
       "      <td>444</td>\n",
       "      <td>4662.0</td>\n",
       "      <td>356000000.0</td>\n",
       "      <td>0</td>\n",
       "      <td>...</td>\n",
       "      <td>0.0</td>\n",
       "      <td>0.0</td>\n",
       "      <td>0.0</td>\n",
       "      <td>0.0</td>\n",
       "      <td>0.0</td>\n",
       "      <td>0.0</td>\n",
       "      <td>0.0</td>\n",
       "      <td>0.0</td>\n",
       "      <td>0.0</td>\n",
       "      <td>0.0</td>\n",
       "    </tr>\n",
       "    <tr>\n",
       "      <th>1</th>\n",
       "      <td>543638043</td>\n",
       "      <td>The Lion King</td>\n",
       "      <td>Walt Disney Studios</td>\n",
       "      <td>Jul 19, 2019</td>\n",
       "      <td>2019</td>\n",
       "      <td>118.0</td>\n",
       "      <td>360</td>\n",
       "      <td>4802.0</td>\n",
       "      <td>260000000.0</td>\n",
       "      <td>0</td>\n",
       "      <td>...</td>\n",
       "      <td>0.0</td>\n",
       "      <td>0.0</td>\n",
       "      <td>0.0</td>\n",
       "      <td>0.0</td>\n",
       "      <td>0.0</td>\n",
       "      <td>0.0</td>\n",
       "      <td>0.0</td>\n",
       "      <td>0.0</td>\n",
       "      <td>0.0</td>\n",
       "      <td>0.0</td>\n",
       "    </tr>\n",
       "    <tr>\n",
       "      <th>2</th>\n",
       "      <td>434038008</td>\n",
       "      <td>Toy Story 4</td>\n",
       "      <td>Walt Disney Studios</td>\n",
       "      <td>Jun 21, 2019</td>\n",
       "      <td>2019</td>\n",
       "      <td>100.0</td>\n",
       "      <td>388</td>\n",
       "      <td>4575.0</td>\n",
       "      <td>200000000.0</td>\n",
       "      <td>0</td>\n",
       "      <td>...</td>\n",
       "      <td>0.0</td>\n",
       "      <td>0.0</td>\n",
       "      <td>0.0</td>\n",
       "      <td>0.0</td>\n",
       "      <td>0.0</td>\n",
       "      <td>0.0</td>\n",
       "      <td>0.0</td>\n",
       "      <td>0.0</td>\n",
       "      <td>0.0</td>\n",
       "      <td>0.0</td>\n",
       "    </tr>\n",
       "    <tr>\n",
       "      <th>3</th>\n",
       "      <td>477373578</td>\n",
       "      <td>Frozen II</td>\n",
       "      <td>Walt Disney Studios</td>\n",
       "      <td>Nov 22, 2019</td>\n",
       "      <td>2019</td>\n",
       "      <td>103.0</td>\n",
       "      <td>234</td>\n",
       "      <td>4440.0</td>\n",
       "      <td>150000000.0</td>\n",
       "      <td>0</td>\n",
       "      <td>...</td>\n",
       "      <td>0.0</td>\n",
       "      <td>0.0</td>\n",
       "      <td>0.0</td>\n",
       "      <td>0.0</td>\n",
       "      <td>0.0</td>\n",
       "      <td>0.0</td>\n",
       "      <td>0.0</td>\n",
       "      <td>0.0</td>\n",
       "      <td>0.0</td>\n",
       "      <td>0.0</td>\n",
       "    </tr>\n",
       "    <tr>\n",
       "      <th>4</th>\n",
       "      <td>426829839</td>\n",
       "      <td>Captain Marvel</td>\n",
       "      <td>Walt Disney Studios</td>\n",
       "      <td>Mar 8, 2019</td>\n",
       "      <td>2019</td>\n",
       "      <td>123.0</td>\n",
       "      <td>299</td>\n",
       "      <td>4310.0</td>\n",
       "      <td>160000000.0</td>\n",
       "      <td>0</td>\n",
       "      <td>...</td>\n",
       "      <td>0.0</td>\n",
       "      <td>0.0</td>\n",
       "      <td>0.0</td>\n",
       "      <td>0.0</td>\n",
       "      <td>0.0</td>\n",
       "      <td>0.0</td>\n",
       "      <td>0.0</td>\n",
       "      <td>0.0</td>\n",
       "      <td>0.0</td>\n",
       "      <td>0.0</td>\n",
       "    </tr>\n",
       "  </tbody>\n",
       "</table>\n",
       "<p>5 rows × 51 columns</p>\n",
       "</div>"
      ],
      "text/plain": [
       "   domestic_total_gross        movie_title             producer  release_date  \\\n",
       "0             858373000  Avengers: Endgame  Walt Disney Studios  Apr 26, 2019   \n",
       "1             543638043      The Lion King  Walt Disney Studios  Jul 19, 2019   \n",
       "2             434038008        Toy Story 4  Walt Disney Studios  Jun 21, 2019   \n",
       "3             477373578          Frozen II  Walt Disney Studios  Nov 22, 2019   \n",
       "4             426829839     Captain Marvel  Walt Disney Studios   Mar 8, 2019   \n",
       "\n",
       "   year  runtime_minutes  days_in_release  theaters       budget  black_list  \\\n",
       "0  2019            181.0              444    4662.0  356000000.0           0   \n",
       "1  2019            118.0              360    4802.0  260000000.0           0   \n",
       "2  2019            100.0              388    4575.0  200000000.0           0   \n",
       "3  2019            103.0              234    4440.0  150000000.0           0   \n",
       "4  2019            123.0              299    4310.0  160000000.0           0   \n",
       "\n",
       "   ...  Mystery  Biography  Sport  Music  History  War  Documentary  Western  \\\n",
       "0  ...      0.0        0.0    0.0    0.0      0.0  0.0          0.0      0.0   \n",
       "1  ...      0.0        0.0    0.0    0.0      0.0  0.0          0.0      0.0   \n",
       "2  ...      0.0        0.0    0.0    0.0      0.0  0.0          0.0      0.0   \n",
       "3  ...      0.0        0.0    0.0    0.0      0.0  0.0          0.0      0.0   \n",
       "4  ...      0.0        0.0    0.0    0.0      0.0  0.0          0.0      0.0   \n",
       "\n",
       "   Short  News  \n",
       "0    0.0   0.0  \n",
       "1    0.0   0.0  \n",
       "2    0.0   0.0  \n",
       "3    0.0   0.0  \n",
       "4    0.0   0.0  \n",
       "\n",
       "[5 rows x 51 columns]"
      ]
     },
     "execution_count": 304,
     "metadata": {},
     "output_type": "execute_result"
    }
   ],
   "source": [
    "movies_df.head()"
   ]
  },
  {
   "cell_type": "code",
   "execution_count": 302,
   "metadata": {},
   "outputs": [],
   "source": [
    "column_names = ['domestic_total_gross', 'movie_title', 'producer', 'release_date','year',\n",
    "       'runtime_minutes', 'days_in_release', 'theaters', 'budget',\n",
    "       'black_list', 'big_six_producer', 'rating_G', 'rating_NC-17',\n",
    "       'rating_Not Rated', 'rating_PG', 'rating_PG-13', 'rating_R',\n",
    "       'month_Aug', 'month_Dec', 'month_Feb', 'month_Jan', 'month_Jul',\n",
    "       'month_Jun', 'month_Mar', 'month_May', 'month_Nov', 'month_Oct',\n",
    "       'month_Sep', 'Action', 'Adventure', 'Drama', 'Sci-Fi', 'Animation',\n",
    "       'Family', 'Musical', 'Comedy', 'Fantasy', 'Romance', 'Crime',\n",
    "       'Thriller', 'Horror', 'Mystery', 'Biography', 'Sport', 'Music',\n",
    "       'History', 'War', 'Documentary', 'Western', 'Short', 'News']"
   ]
  },
  {
   "cell_type": "code",
   "execution_count": 305,
   "metadata": {},
   "outputs": [],
   "source": [
    "movies_df = movies_df.reindex(columns=column_names)"
   ]
  },
  {
   "cell_type": "markdown",
   "metadata": {},
   "source": [
    "## Saving"
   ]
  },
  {
   "cell_type": "code",
   "execution_count": 306,
   "metadata": {},
   "outputs": [],
   "source": [
    "movies_df.to_csv('movies_features.csv')"
   ]
  }
 ],
 "metadata": {
  "kernelspec": {
   "display_name": "Python 3",
   "language": "python",
   "name": "python3"
  },
  "language_info": {
   "codemirror_mode": {
    "name": "ipython",
    "version": 3
   },
   "file_extension": ".py",
   "mimetype": "text/x-python",
   "name": "python",
   "nbconvert_exporter": "python",
   "pygments_lexer": "ipython3",
   "version": "3.7.6"
  }
 },
 "nbformat": 4,
 "nbformat_minor": 4
}
